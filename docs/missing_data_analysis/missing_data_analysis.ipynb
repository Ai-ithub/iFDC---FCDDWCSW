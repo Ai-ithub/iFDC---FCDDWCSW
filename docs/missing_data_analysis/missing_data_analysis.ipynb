{
 "cells": [
  {
   "cell_type": "markdown",
   "id": "24b0c2ab",
   "metadata": {},
   "source": [
    "\n",
    "### 🔄 **Task** = Missing Values Review and Completion \n",
    "# Data Imputation Check\n",
    "\n",
    "This section analyzes missing data and fills in gaps where necessary.  \n",
    "Using **KNN Imputation** or other suitable techniques, missing values are completed to enhance data quality.  \n",
    "The goal is to ensure a complete dataset for further analysis.\n",
    "\n",
    "\n",
    "## Overview\n",
    "This script examines the dataset for missing values and performs **K-Nearest Neighbors (KNN) imputation** if necessary.\n",
    "\n",
    "## Steps:\n",
    "1. Check for missing values in numeric columns.\n",
    "2. If missing data is found, apply KNN imputation with **n_neighbors=3**.\n",
    "3. If no missing values are present, display a message confirming data completeness.\n",
    "\n",
    "## Results:\n",
    "✅ The dataset was analyzed, and no missing data was found. Therefore, imputation was **not** performed.\n"
   ]
  },
  {
   "cell_type": "markdown",
   "id": "23018e8b",
   "metadata": {},
   "source": [
    "\n",
    "*<span style=\"font-size: 30px; font-style: italic;\">Load essential Python libraries for data analysis</span>*"
   ]
  },
  {
   "cell_type": "code",
   "execution_count": null,
   "id": "7db9e8c6",
   "metadata": {},
   "outputs": [
    {
     "name": "stdout",
     "output_type": "stream",
     "text": [
      "\n",
      "✅ Libraries imported successfully!\n"
     ]
    }
   ],
   "source": [
    "import pandas as pd\n",
    "import seaborn as sns\n",
    "from sklearn.impute import KNNImputer\n",
    "import matplotlib as plt\n",
    "import matplotlib.pyplot as plt\n",
    "\n",
    "\n",
    "print(\"✅ Libraries imported successfully!\")"
   ]
  },
  {
   "cell_type": "markdown",
   "id": "07aea04e",
   "metadata": {},
   "source": [
    "## <span style=\"font-size: 28px;\">📁 Data Loading</span>"
   ]
  },
  {
   "cell_type": "code",
   "execution_count": 12,
   "id": "5505c1be",
   "metadata": {},
   "outputs": [
    {
     "name": "stdout",
     "output_type": "stream",
     "text": [
      "       Well_ID Formation   Fluid_Type Completion_Type  Temperature_C  \\\n",
      "0  WELL_000000  Dolomite    Oil-Based       Open Hole     149.672016   \n",
      "1  WELL_000001     Mixed         Acid      Cased Hole      98.933119   \n",
      "2  WELL_000002     Shale  Water-Based      Cased Hole     137.428599   \n",
      "3  WELL_000003     Mixed         Acid       Open Hole      82.488320   \n",
      "4  WELL_000004     Mixed    Oil-Based      Cased Hole     116.733681   \n",
      "\n",
      "   Pressure_psi        pH   Salinity_ppm  Flow_Rate_bbl_day  Permeability_mD  \\\n",
      "0   3817.406049  5.375525  206355.978371         735.399849       152.773407   \n",
      "1  10093.458461  7.436436   82356.866683         448.265019       321.709884   \n",
      "2  10248.969939  8.987917   81304.148919         483.393575        21.531666   \n",
      "3  13987.740540  4.231009  223079.392896        1058.581323       366.935130   \n",
      "4   1673.091195  8.737042   80825.062574         886.706732        37.997009   \n",
      "\n",
      "   Porosity_pct         Damage_Type  \n",
      "0     21.834446  Corrosion Cracking  \n",
      "1     30.340710  Filtration Problem  \n",
      "2     34.360124         Clay & Iron  \n",
      "3     27.832098  Corrosion Cracking  \n",
      "4     28.150108         Clay & Iron  \n",
      "------------------------------------------------------\n",
      "<class 'pandas.core.frame.DataFrame'>\n",
      "RangeIndex: 1000000 entries, 0 to 999999\n",
      "Data columns (total 12 columns):\n",
      " #   Column             Non-Null Count    Dtype  \n",
      "---  ------             --------------    -----  \n",
      " 0   Well_ID            1000000 non-null  object \n",
      " 1   Formation          1000000 non-null  object \n",
      " 2   Fluid_Type         1000000 non-null  object \n",
      " 3   Completion_Type    1000000 non-null  object \n",
      " 4   Temperature_C      1000000 non-null  float64\n",
      " 5   Pressure_psi       1000000 non-null  float64\n",
      " 6   pH                 1000000 non-null  float64\n",
      " 7   Salinity_ppm       1000000 non-null  float64\n",
      " 8   Flow_Rate_bbl_day  1000000 non-null  float64\n",
      " 9   Permeability_mD    1000000 non-null  float64\n",
      " 10  Porosity_pct       1000000 non-null  float64\n",
      " 11  Damage_Type        1000000 non-null  object \n",
      "dtypes: float64(7), object(5)\n",
      "memory usage: 91.6+ MB\n",
      "None\n"
     ]
    }
   ],
   "source": [
    "data = pd.read_csv(\"formation_damage_dataset.csv\")\n",
    "print(data.head())\n",
    "print(\"---\" *18)\n",
    "print(data.info())\n"
   ]
  },
  {
   "cell_type": "markdown",
   "id": "0cf7d4f9",
   "metadata": {},
   "source": [
    "### 🔄 Handling Missing Data with KNN Imputation\n",
    "\n",
    "This function fills in missing values in numeric columns using the **K-Nearest Neighbors (KNN) imputation method**.  \n",
    "If missing data is detected, it replaces them based on patterns in the dataset using the nearest three neighbors (`n_neighbors=3`).  \n",
    "If no missing values are found, it prints a warning instead. This ensures a safer and more robust dataset for analysis.\n"
   ]
  },
  {
   "cell_type": "code",
   "execution_count": 62,
   "id": "e51af34d",
   "metadata": {},
   "outputs": [
    {
     "name": "stdout",
     "output_type": "stream",
     "text": [
      "⚠️ No missing data found for imputation\n"
     ]
    }
   ],
   "source": [
    "from sklearn.impute import KNNImputer\n",
    "\n",
    "def safe_imputer(df, numeric_cols):\n",
    "    if df[numeric_cols].isnull().sum().sum() > 0:\n",
    "        imputer = KNNImputer(n_neighbors=3)\n",
    "        df[numeric_cols] = imputer.fit_transform(df[numeric_cols])\n",
    "        print(\"✅ Imputation completed\")\n",
    "    else:\n",
    "        print(\"⚠️ No missing data found for imputation\")\n",
    "    return df\n",
    "\n",
    "\n",
    "df = safe_imputer(data, ['Temperature_C', 'Pressure_psi'])"
   ]
  },
  {
   "cell_type": "markdown",
   "id": "0415787b",
   "metadata": {},
   "source": [
    "### 📋 Data Quality Report\n",
    "\n",
    "This snippet generates a summary of the dataset's completeness by reporting the total number of records and the count of missing values.  \n",
    "If the dataset is clean, it verifies that no missing values remain, ensuring reliability for further analysis.\n"
   ]
  },
  {
   "cell_type": "code",
   "execution_count": 37,
   "id": "9ec48176",
   "metadata": {},
   "outputs": [
    {
     "name": "stdout",
     "output_type": "stream",
     "text": [
      "\n",
      "Data Quality Report:\n",
      "- Total records: 1000000\n",
      "- Missing values: 0\n",
      "- Clean dataset verified\n",
      "\n"
     ]
    }
   ],
   "source": [
    "# Document data completeness\n",
    "missing_report = f\"\"\"\n",
    "Data Quality Report:\n",
    "- Total records: {len(data)}\n",
    "- Missing values: {data.isnull().sum().sum()}\n",
    "- Clean dataset verified\n",
    "\"\"\"\n",
    "print(missing_report)"
   ]
  },
  {
   "cell_type": "markdown",
   "id": "ec6713e5",
   "metadata": {},
   "source": [
    "### 🔍 Validating Data Ranges\n",
    "\n",
    "This snippet identifies temperature values that fall outside the expected range (50 to 200°C).  \n",
    "By flagging **impossible or unrealistic values**, it ensures data integrity before further analysis.  \n",
    "The total count of invalid temperature records is printed, helping detect potential errors or anomalies.\n"
   ]
  },
  {
   "cell_type": "code",
   "execution_count": 38,
   "id": "6c49bc28",
   "metadata": {},
   "outputs": [
    {
     "name": "stdout",
     "output_type": "stream",
     "text": [
      "Invalid temperature records: 0\n"
     ]
    }
   ],
   "source": [
    "# Validate data ranges (e.g., impossible values)\n",
    "invalid_temp = ~data['Temperature_C'].between(50, 200)\n",
    "print(f\"Invalid temperature records: {invalid_temp.sum()}\")"
   ]
  },
  {
   "cell_type": "markdown",
   "id": "d6bd783e",
   "metadata": {},
   "source": [
    "تحلیل جامع کیفیت داده (Beyond Missing Values)"
   ]
  },
  {
   "cell_type": "code",
   "execution_count": 40,
   "id": "5750465c",
   "metadata": {},
   "outputs": [
    {
     "name": "stdout",
     "output_type": "stream",
     "text": [
      "Invalid temperature values: 0 records\n",
      "\n",
      "Invalid pressure values: 0 records\n",
      "\n",
      "Duplicate records: 0 cases\n",
      "\n",
      "Outlier data:\n",
      "Temperature_C        0\n",
      "Pressure_psi         0\n",
      "pH                   0\n",
      "Salinity_ppm         0\n",
      "Flow_Rate_bbl_day    0\n",
      "Permeability_mD      0\n",
      "Porosity_pct         0\n",
      "dtype: int64\n",
      "\n",
      "Descriptive statistics:\n",
      "        Temperature_C    Pressure_psi              pH    Salinity_ppm  \\\n",
      "count  1000000.000000  1000000.000000  1000000.000000  1000000.000000   \n",
      "mean       125.008966     8000.712436        6.249131   130090.193342   \n",
      "std         42.205665     3938.983560        1.546974    67489.235548   \n",
      "min         50.000180     1000.011594        3.500003    10000.119302   \n",
      "1%          51.561994     1147.029422        3.557007    12536.476968   \n",
      "25%         89.497939     4685.651547        4.946890    73319.451571   \n",
      "50%        125.012696     8002.941109        6.249271   130186.533213   \n",
      "75%        160.557045    11315.457398        7.548582   186868.122403   \n",
      "99%        198.421356    14850.555412        8.941305   247439.023898   \n",
      "max        199.999977    14999.998836        8.999998   249999.692379   \n",
      "\n",
      "       Flow_Rate_bbl_day  Permeability_mD    Porosity_pct  \n",
      "count     1000000.000000   1000000.000000  1000000.000000  \n",
      "mean          754.870560       250.291296       20.010436  \n",
      "std           419.324156       140.684683        8.448822  \n",
      "min            10.000538         0.010042        5.000032  \n",
      "1%             25.425716         5.285542        5.322482  \n",
      "25%           402.055027       131.960063       12.895532  \n",
      "50%           754.627667       250.281400       20.013444  \n",
      "75%          1107.283655       368.814942       27.136372  \n",
      "99%          1484.204394       494.825996       34.689557  \n",
      "max          1499.996503       499.999645       34.999995  \n"
     ]
    }
   ],
   "source": [
    "def comprehensive_quality_check(df):\n",
    "    \"\"\"Check the health of data from various aspects\"\"\"\n",
    "    reports = []\n",
    "    \n",
    "    # 1. Checking for invalid values\n",
    "    invalid_temp = df[~df['Temperature_C'].between(50, 200)]\n",
    "    invalid_pressure = df[df['Pressure_psi'] < 0]\n",
    "    reports.append(f\"Invalid temperature values: {len(invalid_temp)} records\")\n",
    "    reports.append(f\"Invalid pressure values: {len(invalid_pressure)} records\")\n",
    "    \n",
    "    # 2. Checking for duplicate data\n",
    "    duplicate_rows = df[df.duplicated()]\n",
    "    reports.append(f\"Duplicate records: {len(duplicate_rows)} cases\")\n",
    "    \n",
    "    # 3. Outlier analysis\n",
    "    from scipy import stats\n",
    "    z_scores = stats.zscore(df.select_dtypes(include=['number']))\n",
    "    outliers = (abs(z_scores) > 3).sum(axis=0)\n",
    "    reports.append(f\"Outlier data:\\n{outliers}\")\n",
    "    \n",
    "    # 4. Checking data distribution\n",
    "    distribution = df.describe(percentiles=[.01, .25, .5, .75, .99])\n",
    "    reports.append(f\"Descriptive statistics:\\n{distribution}\")\n",
    "    \n",
    "    return \"\\n\\n\".join(reports)\n",
    "\n",
    "# Running analysis\n",
    "quality_report = comprehensive_quality_check(df)\n",
    "print(quality_report)\n"
   ]
  },
  {
   "cell_type": "markdown",
   "id": "e1186911",
   "metadata": {},
   "source": [
    "### 🔎 Well Clustering Using K-Means\n",
    "\n",
    "This function clusters wells based on their technical characteristics, including temperature, pressure, and porosity.  \n",
    "It first scales the data to ensure proper clustering, then determines the optimal number of clusters using the **Elbow Method**.  \n",
    "Finally, it applies K-Means clustering and visualizes the results using a scatter plot, helping to identify patterns and group wells with similar properties.\n"
   ]
  },
  {
   "cell_type": "code",
   "execution_count": 50,
   "id": "e1452d8d",
   "metadata": {},
   "outputs": [
    {
     "data": {
      "image/png": "[encoded data removed]",
      "text/plain": [
       "<Figure size 640x480 with 1 Axes>"
      ]
     },
     "metadata": {},
     "output_type": "display_data"
    }
   ],
   "source": [
    "def formation_clustering(df):\n",
    "    \"\"\"Well clustering based on technical characteristics\"\"\"\n",
    "    from sklearn.cluster import KMeans\n",
    "    from sklearn.preprocessing import StandardScaler\n",
    "    \n",
    "    # 1. Data preparation\n",
    "    X = df[['Temperature_C', 'Pressure_psi', 'Porosity_pct']]\n",
    "    scaler = StandardScaler()\n",
    "    X_scaled = scaler.fit_transform(X)\n",
    "    \n",
    "    # 2. Determining the optimal number of clusters\n",
    "    wcss = []\n",
    "    for i in range(1, 11):\n",
    "        kmeans = KMeans(n_clusters=i, random_state=42)\n",
    "        kmeans.fit(X_scaled)\n",
    "        wcss.append(kmeans.inertia_)\n",
    "    \n",
    "    plt.plot(range(1, 11), wcss)\n",
    "    plt.title(\"Elbow Method for Determining the Number of Clusters\")\n",
    "    plt.xlabel(\"Number of Clusters\")\n",
    "    plt.ylabel(\"WCSS\")\n",
    "    \n",
    "    # 3. Executing clustering (Assumed: 3 clusters)\n",
    "    kmeans = KMeans(n_clusters=3, random_state=42)\n",
    "    df['Cluster'] = kmeans.fit_predict(X_scaled)\n",
    "    \n",
    "    # 4. Displaying results\n",
    "    sns.scatterplot(data=df, x='Temperature_C', y='Pressure_psi', \n",
    "                   hue='Cluster', palette='viridis', alpha=0.8)\n",
    "    plt.title(\"Well Clustering Based on Technical Characteristics\")\n",
    "    \n",
    "    return df[['Well_ID', 'Cluster']].sort_values('Cluster')\n",
    "\n",
    "# Running analysis\n",
    "cluster_results = formation_clustering(df)\n"
   ]
  },
  {
   "cell_type": "markdown",
   "id": "bbd41445",
   "metadata": {},
   "source": [
    "### 📊 3D Scatter Plot of Well Data with Plotly\n",
    "\n",
    "This plot visualizes the relationship between temperature, pressure, and porosity across different wells.  \n",
    "Each point represents a well, and its color indicates the geological formation.  \n",
    "By exploring this interactive visualization, we can identify patterns and trends in the data, helping to understand how these parameters interact.\n",
    "\n"
   ]
  },
  {
   "cell_type": "code",
   "execution_count": null,
   "id": "8e80f7c1",
   "metadata": {},
   "outputs": [],
   "source": [
    "import plotly.io as pio\n",
    "pio.renderers.default = \"browser\" \n",
    "fig.show()\n",
    "\n",
    "\n"
   ]
  },
  {
   "cell_type": "markdown",
   "id": "b2e1e5d0",
   "metadata": {},
   "source": [
    "### 💾 Saving the Plot as an HTML File\n",
    "\n",
    "This command saves the interactive plot as an HTML file, allowing it to be viewed later in a web browser.  \n",
    "Opening the **plot.html** file in any browser will display the visualization, making it easy to share or analyze outside of Jupyter Notebook.\n",
    "\n"
   ]
  },
  {
   "cell_type": "code",
   "execution_count": 60,
   "id": "84e66f1b",
   "metadata": {},
   "outputs": [],
   "source": [
    "fig.write_html(\"plot.html\")\n"
   ]
  }
 ],
 "metadata": {
  "kernelspec": {
   "display_name": "Python 3",
   "language": "python",
   "name": "python3"
  },
  "language_info": {
   "codemirror_mode": {
    "name": "ipython",
    "version": 3
   },
   "file_extension": ".py",
   "mimetype": "text/x-python",
   "name": "python",
   "nbconvert_exporter": "python",
   "pygments_lexer": "ipython3",
   "version": "3.11.5"
  }
 },
 "nbformat": 4,
 "nbformat_minor": 5
}

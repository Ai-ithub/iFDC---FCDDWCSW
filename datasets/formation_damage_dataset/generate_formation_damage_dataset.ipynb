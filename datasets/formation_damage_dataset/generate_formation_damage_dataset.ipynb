{
 "cells": [
  {
   "cell_type": "code",
   "execution_count": 1,
   "id": "939d8749",
   "metadata": {},
   "outputs": [],
   "source": [
    "import pandas as pd\n",
    "import numpy as np\n",
    "from sklearn.utils import shuffle"
   ]
  },
  {
   "cell_type": "code",
   "execution_count": null,
   "id": "0f4adf67",
   "metadata": {},
   "outputs": [],
   "source": [
    "# ======================= Basic Settings =======================\n",
    "all_data = 10_000_000\n",
    "NUM_NORMAL = all_data * 0.95\n",
    "NUM_ABNORMAL = all_data*0.05  # 5% outliers\n",
    "OUTPUT_FILE = \"formation_damage_optimized.parquet\""
   ]
  },
  {
   "cell_type": "code",
   "execution_count": 3,
   "id": "a340b38a",
   "metadata": {},
   "outputs": [],
   "source": [
    "# ======================= Variable Definitions =======================\n",
    "damage_types = [\n",
    "    \"Clay & Iron\", \"Drilling Damage\", \"Fluid Loss\", \"Fluid Incompatibility\", \n",
    "    \"Emulsion\", \"Rock/Fluid Interaction\", \"Completion Issue\", \n",
    "    \"Corrosion Cracking\", \"Filtration Problem\", \"Ultra-Clean Fluid\"\n",
    "]\n",
    "formations = [\"Carbonate\", \"Sandstone\", \"Shale\", \"Dolomite\", \"Mixed\"]\n",
    "fluid_types = [\"Brine\", \"Acid\", \"Mud\", \"Water-Based\", \"Oil-Based\"]\n",
    "completion_types = [\"Open Hole\", \"Cased Hole\", \"Perforated\", \"Liner\"]"
   ]
  },
  {
   "cell_type": "code",
   "execution_count": 4,
   "id": "289e5151",
   "metadata": {},
   "outputs": [],
   "source": [
    "# Normal value ranges\n",
    "normal_ranges = {\n",
    "    \"Temperature_C\": (50, 200),\n",
    "    \"Pressure_psi\": (1000, 15000),\n",
    "    \"pH\": (3.5, 9.0),\n",
    "    \"Salinity_ppm\": (10_000, 250_000),\n",
    "    \"Flow_Rate_bbl_day\": (10, 1500),\n",
    "    \"Permeability_mD\": (0.01, 500),\n",
    "    \"Porosity_pct\": (5, 35)\n",
    "}"
   ]
  },
  {
   "cell_type": "code",
   "execution_count": 5,
   "id": "80cd071f",
   "metadata": {},
   "outputs": [],
   "source": [
    "# Outlier value ranges (for Task #1)\n",
    "abnormal_ranges = {\n",
    "    \"Temperature_C\": (220, 400),\n",
    "    \"Pressure_psi\": (16000, 30000),\n",
    "    \"pH\": (0.5, 3.4),\n",
    "    \"Salinity_ppm\": (300_000, 1_000_000),\n",
    "    \"Flow_Rate_bbl_day\": (1600, 10_000),\n",
    "    \"Permeability_mD\": (600, 5000),\n",
    "    \"Porosity_pct\": (0, 4)\n",
    "}"
   ]
  },
  {
   "cell_type": "code",
   "execution_count": 6,
   "id": "0e2ebb48",
   "metadata": {},
   "outputs": [],
   "source": [
    "# ======================= Generating Normal Data =======================\n",
    "np.random.seed(42)\n",
    "normal_data = {\n",
    "    \"Well_ID\": [f\"WELL_{i:07}\" for i in range(NUM_NORMAL)],\n",
    "    \"Formation\": np.random.choice(formations, NUM_NORMAL),\n",
    "    \"Fluid_Type\": np.random.choice(fluid_types, NUM_NORMAL),\n",
    "    \"Completion_Type\": np.random.choice(completion_types, NUM_NORMAL),\n",
    "    \"Temperature_C\": np.random.uniform(*normal_ranges[\"Temperature_C\"], NUM_NORMAL).astype(np.float32),\n",
    "    \"Pressure_psi\": np.random.uniform(*normal_ranges[\"Pressure_psi\"], NUM_NORMAL).astype(np.float32),\n",
    "    \"pH\": np.random.uniform(*normal_ranges[\"pH\"], NUM_NORMAL).astype(np.float32),\n",
    "    \"Salinity_ppm\": np.random.uniform(*normal_ranges[\"Salinity_ppm\"], NUM_NORMAL).astype(np.float32),\n",
    "    \"Flow_Rate_bbl_day\": np.random.uniform(*normal_ranges[\"Flow_Rate_bbl_day\"], NUM_NORMAL).astype(np.float32),\n",
    "    \"Permeability_mD\": np.random.uniform(*normal_ranges[\"Permeability_mD\"], NUM_NORMAL).astype(np.float32),\n",
    "    \"Porosity_pct\": np.random.uniform(*normal_ranges[\"Porosity_pct\"], NUM_NORMAL).astype(np.float32),\n",
    "    \"Damage_Type\": np.random.choice(damage_types, NUM_NORMAL)\n",
    "}"
   ]
  },
  {
   "cell_type": "code",
   "execution_count": 7,
   "id": "3e705743",
   "metadata": {},
   "outputs": [],
   "source": [
    "# ======================= Generating Outlier Data =======================\n",
    "np.random.seed(123)\n",
    "abnormal_data = {\n",
    "    \"Well_ID\": [f\"ABN_{i:07}\" for i in range(NUM_ABNORMAL)],\n",
    "    \"Formation\": np.random.choice(formations, NUM_ABNORMAL),\n",
    "    \"Fluid_Type\": np.random.choice(fluid_types, NUM_ABNORMAL),\n",
    "    \"Completion_Type\": np.random.choice(completion_types, NUM_ABNORMAL),\n",
    "    \"Temperature_C\": np.random.uniform(*abnormal_ranges[\"Temperature_C\"], NUM_ABNORMAL).astype(np.float32),\n",
    "    \"Pressure_psi\": np.random.uniform(*abnormal_ranges[\"Pressure_psi\"], NUM_ABNORMAL).astype(np.float32),\n",
    "    \"pH\": np.random.uniform(*abnormal_ranges[\"pH\"], NUM_ABNORMAL).astype(np.float32),\n",
    "    \"Salinity_ppm\": np.random.uniform(*abnormal_ranges[\"Salinity_ppm\"], NUM_ABNORMAL).astype(np.float32),\n",
    "    \"Flow_Rate_bbl_day\": np.random.uniform(*abnormal_ranges[\"Flow_Rate_bbl_day\"], NUM_ABNORMAL).astype(np.float32),\n",
    "    \"Permeability_mD\": np.random.uniform(*abnormal_ranges[\"Permeability_mD\"], NUM_ABNORMAL).astype(np.float32),\n",
    "    \"Porosity_pct\": np.random.uniform(*abnormal_ranges[\"Porosity_pct\"], NUM_ABNORMAL).astype(np.float32),\n",
    "    \"Damage_Type\": np.random.choice([\"Corrosion Cracking\", \"Fluid Incompatibility\"], NUM_ABNORMAL)  # Focus on critical damage types\n",
    "}"
   ]
  },
  {
   "cell_type": "code",
   "execution_count": 8,
   "id": "1ec6b07f",
   "metadata": {},
   "outputs": [],
   "source": [
    "# ======================= Merging and Saving =======================\n",
    "df_normal = pd.DataFrame(normal_data)\n",
    "df_abnormal = pd.DataFrame(abnormal_data)\n",
    "df_combined = pd.concat([df_normal, df_abnormal], ignore_index=True)\n",
    "\n",
    "# Adding artificial missing values (for Task #3)\n",
    "df_combined.loc[df_combined.sample(frac=0.05, random_state=42).index, \"Salinity_ppm\"] = np.nan  # 5% missing data\n",
    "\n",
    "# Shuffle the dataset\n",
    "df_final = shuffle(df_combined, random_state=42).reset_index(drop=True)\n",
    "\n",
    "# Optimizing data types\n",
    "df_final = df_final.astype({\n",
    "    \"Well_ID\": \"category\",\n",
    "    \"Formation\": \"category\",\n",
    "    \"Fluid_Type\": \"category\",\n",
    "    \"Completion_Type\": \"category\",\n",
    "    \"Damage_Type\": \"category\"\n",
    "})"
   ]
  },
  {
   "cell_type": "code",
   "execution_count": 10,
   "id": "bf746383",
   "metadata": {},
   "outputs": [
    {
     "name": "stdout",
     "output_type": "stream",
     "text": [
      "✅ Final dataset with 10,500,000 records saved to 'formation_damage_optimized.parquet'.\n"
     ]
    }
   ],
   "source": [
    "# Saving the dataset\n",
    "df_final.to_parquet(OUTPUT_FILE, index=False)\n",
    "print(f\"✅ Final dataset with {NUM_NORMAL + NUM_ABNORMAL:,} records saved to '{OUTPUT_FILE}'.\")"
   ]
  }
 ],
 "metadata": {
  "kernelspec": {
   "display_name": "Python 3",
   "language": "python",
   "name": "python3"
  },
  "language_info": {
   "codemirror_mode": {
    "name": "ipython",
    "version": 3
   },
   "file_extension": ".py",
   "mimetype": "text/x-python",
   "name": "python",
   "nbconvert_exporter": "python",
   "pygments_lexer": "ipython3",
   "version": "3.11.5"
  }
 },
 "nbformat": 4,
 "nbformat_minor": 5
}

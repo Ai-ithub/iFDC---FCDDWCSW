{
  "nbformat": 4,
  "nbformat_minor": 0,
  "metadata": {
    "colab": {
      "provenance": [],
      "gpuType": "T4"
    },
    "kernelspec": {
      "name": "python3",
      "display_name": "Python 3"
    },
    "language_info": {
      "name": "python"
    },
    "accelerator": "GPU"
  },
  "cells": [
    {
      "cell_type": "code",
      "execution_count": 2,
      "metadata": {
        "colab": {
          "base_uri": "https://localhost:8080/"
        },
        "id": "xX8hrJ655MS3",
        "outputId": "c294c3d2-5e31-490e-8807-3a935d801c02"
      },
      "outputs": [
        {
          "output_type": "stream",
          "name": "stdout",
          "text": [
            "Mounted at /content/mydrive\n"
          ]
        }
      ],
      "source": [
        "from google.colab import drive\n",
        "drive.mount('/content/mydrive')"
      ]
    },
    {
      "cell_type": "code",
      "source": [
        "!pip install pandas pyarrow\n",
        "!pip install pandas fastparquet"
      ],
      "metadata": {
        "colab": {
          "base_uri": "https://localhost:8080/"
        },
        "id": "7isAB51IxTAr",
        "outputId": "5eff8d05-584c-443c-85d9-cf876c7b3842"
      },
      "execution_count": 3,
      "outputs": [
        {
          "output_type": "stream",
          "name": "stdout",
          "text": [
            "Requirement already satisfied: pandas in /usr/local/lib/python3.11/dist-packages (2.2.2)\n",
            "Requirement already satisfied: pyarrow in /usr/local/lib/python3.11/dist-packages (18.1.0)\n",
            "Requirement already satisfied: numpy>=1.23.2 in /usr/local/lib/python3.11/dist-packages (from pandas) (2.0.2)\n",
            "Requirement already satisfied: python-dateutil>=2.8.2 in /usr/local/lib/python3.11/dist-packages (from pandas) (2.9.0.post0)\n",
            "Requirement already satisfied: pytz>=2020.1 in /usr/local/lib/python3.11/dist-packages (from pandas) (2025.2)\n",
            "Requirement already satisfied: tzdata>=2022.7 in /usr/local/lib/python3.11/dist-packages (from pandas) (2025.2)\n",
            "Requirement already satisfied: six>=1.5 in /usr/local/lib/python3.11/dist-packages (from python-dateutil>=2.8.2->pandas) (1.17.0)\n",
            "Requirement already satisfied: pandas in /usr/local/lib/python3.11/dist-packages (2.2.2)\n",
            "Collecting fastparquet\n",
            "  Downloading fastparquet-2024.11.0-cp311-cp311-manylinux_2_17_x86_64.manylinux2014_x86_64.whl.metadata (4.2 kB)\n",
            "Requirement already satisfied: numpy>=1.23.2 in /usr/local/lib/python3.11/dist-packages (from pandas) (2.0.2)\n",
            "Requirement already satisfied: python-dateutil>=2.8.2 in /usr/local/lib/python3.11/dist-packages (from pandas) (2.9.0.post0)\n",
            "Requirement already satisfied: pytz>=2020.1 in /usr/local/lib/python3.11/dist-packages (from pandas) (2025.2)\n",
            "Requirement already satisfied: tzdata>=2022.7 in /usr/local/lib/python3.11/dist-packages (from pandas) (2025.2)\n",
            "Requirement already satisfied: cramjam>=2.3 in /usr/local/lib/python3.11/dist-packages (from fastparquet) (2.10.0)\n",
            "Requirement already satisfied: fsspec in /usr/local/lib/python3.11/dist-packages (from fastparquet) (2025.3.2)\n",
            "Requirement already satisfied: packaging in /usr/local/lib/python3.11/dist-packages (from fastparquet) (24.2)\n",
            "Requirement already satisfied: six>=1.5 in /usr/local/lib/python3.11/dist-packages (from python-dateutil>=2.8.2->pandas) (1.17.0)\n",
            "Downloading fastparquet-2024.11.0-cp311-cp311-manylinux_2_17_x86_64.manylinux2014_x86_64.whl (1.8 MB)\n",
            "\u001b[2K   \u001b[90m━━━━━━━━━━━━━━━━━━━━━━━━━━━━━━━━━━━━━━━━\u001b[0m \u001b[32m1.8/1.8 MB\u001b[0m \u001b[31m75.7 MB/s\u001b[0m eta \u001b[36m0:00:00\u001b[0m\n",
            "\u001b[?25hInstalling collected packages: fastparquet\n",
            "Successfully installed fastparquet-2024.11.0\n"
          ]
        }
      ]
    },
    {
      "cell_type": "code",
      "source": [
        "import pandas as pd\n",
        "import numpy as np\n",
        "\n",
        "# خواندن داده‌ها از فایل CSV\n",
        "input_file = '//content//mydrive/MyDrive//Colab Notebooks//formation_damage_optimized.parquet'  # نام فایل ورودی\n",
        "output_cleaned = '//content//mydrive/MyDrive//Colab Notebooks//cleaned_data.csv'\n",
        "output_removed = '//content//mydrive/MyDrive//Colab Notebooks//removed_outliers.csv'\n",
        "\n",
        "df = pd.read_parquet(input_file)\n",
        "\n",
        "# ستون‌های مورد نظر برای آنالیز\n",
        "columns_to_check = ['Temperature_C', 'Pressure_psi', 'Permeability_mD', 'Flow_Rate_bbl_day']\n",
        "\n",
        "# تعریف تابع تشخیص پرت با روش IQR\n",
        "def detect_outliers_iqr(df, column):\n",
        "    Q1 = df[column].quantile(0.25)\n",
        "    Q3 = df[column].quantile(0.75)\n",
        "    IQR = Q3 - Q1\n",
        "    lower_bound = Q1 - 1.5 * IQR\n",
        "    upper_bound = Q3 + 1.5 * IQR\n",
        "    outliers = df[(df[column] < lower_bound) | (df[column] > upper_bound)]\n",
        "    return outliers, lower_bound, upper_bound\n",
        "\n",
        "# ذخیره داده‌های غیرمعمول\n",
        "removed_outliers = pd.DataFrame()\n",
        "\n",
        "# پردازش هر ستون\n",
        "for col in columns_to_check:\n",
        "    if col not in df.columns:\n",
        "        print(f\"⚠️ ستون '{col}' وجود ندارد و از پردازش حذف شد.\")\n",
        "        continue\n",
        "\n",
        "    outliers, lb, ub = detect_outliers_iqr(df, col)\n",
        "    print(f\"\\n📊 {col}:\")\n",
        "    print(f\"حد پایین IQR: {lb:.2f}, حد بالای IQR: {ub:.2f}\")\n",
        "    print(f\"تعداد مقادیر پرت: {len(outliers)}\")\n",
        "\n",
        "    removed_outliers = pd.concat([removed_outliers, outliers], axis=0)\n",
        "\n",
        "# حذف سطرهای دارای مقادیر پرت از داده‌های اصلی\n",
        "cleaned_df = df.drop(removed_outliers.index).reset_index(drop=True)\n",
        "\n",
        "# ذخیره داده‌های تمیز شده\n",
        "cleaned_df.to_csv(output_cleaned, index=False)\n",
        "print(f\"\\n✅ داده‌های تمیز شده در فایل '{output_cleaned}' ذخیره شد.\")\n",
        "\n",
        "# ذخیره مقادیر پرت در یک فایل جداگانه\n",
        "if not removed_outliers.empty:\n",
        "    removed_outliers.to_csv(output_removed, index=False)\n",
        "    print(f\" مقادیر پرت در فایل '{output_removed}' ذخیره شد.\")\n",
        "else:\n",
        "    print(\" هیچ مقدار پرتی یافت نشد.\")"
      ],
      "metadata": {
        "colab": {
          "base_uri": "https://localhost:8080/"
        },
        "id": "Sn24lHUV5PuQ",
        "outputId": "42722bdd-6f76-45a9-eb13-d3e308ff2ec5"
      },
      "execution_count": 4,
      "outputs": [
        {
          "output_type": "stream",
          "name": "stdout",
          "text": [
            "\n",
            "📊 Temperature_C:\n",
            "حد پایین IQR: -28.76, حد بالای IQR: 286.24\n",
            "تعداد مقادیر پرت: 315609\n",
            "\n",
            "📊 Pressure_psi:\n",
            "حد پایین IQR: -6349.49, حد بالای IQR: 23045.47\n",
            "تعداد مقادیر پرت: 248105\n",
            "\n",
            "📊 Permeability_mD:\n",
            "حد پایین IQR: -262.60, حد بالای IQR: 787.72\n",
            "تعداد مقادیر پرت: 478607\n",
            "\n",
            "📊 Flow_Rate_bbl_day:\n",
            "حد پایین IQR: -772.03, حد بالای IQR: 2357.10\n",
            "تعداد مقادیر پرت: 455165\n",
            "\n",
            "✅ داده‌های تمیز شده در فایل '//content//mydrive/MyDrive//Colab Notebooks//cleaned_data.csv' ذخیره شد.\n",
            " مقادیر پرت در فایل '//content//mydrive/MyDrive//Colab Notebooks//removed_outliers.csv' ذخیره شد.\n"
          ]
        }
      ]
    }
  ]
}
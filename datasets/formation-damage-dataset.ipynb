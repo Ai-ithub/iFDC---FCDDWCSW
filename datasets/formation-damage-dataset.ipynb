{
 "cells": [
  {
   "cell_type": "markdown",
   "id": "1bde42f0",
   "metadata": {},
   "source": [
    "## <span style=\"font-size: 28px;\">Import Libraries</span>"
   ]
  },
  {
   "cell_type": "code",
   "execution_count": 1,
   "id": "aa8e076c",
   "metadata": {},
   "outputs": [],
   "source": [
    "import pandas as pd\n",
    "import numpy as np"
   ]
  },
  {
   "cell_type": "markdown",
   "id": "c7a918ad",
   "metadata": {},
   "source": [
    "## <span style=\"font-size: 28px;\">Define Variables</span>"
   ]
  },
  {
   "cell_type": "code",
   "execution_count": 2,
   "id": "c7cbbf46",
   "metadata": {},
   "outputs": [],
   "source": [
    "# Number of normal records\n",
    "num_normal_samples = 10_000_000\n",
    "# Number of abnormal records\n",
    "num_abnormal_samples = 500_000\n",
    "# Total number of records\n",
    "num_total_samples = num_normal_samples + num_abnormal_samples\n",
    "\n",
    "# Categories and ranges (for normal data)\n",
    "damage_types = [\n",
    "    \"Clay & Iron\", \"Drilling Damage\", \"Fluid Loss\", \"Fluid Incompatibility\", \"Emulsion\",\n",
    "    \"Rock/Fluid Interaction\", \"Completion Issue\", \"Corrosion Cracking\",\n",
    "    \"Filtration Problem\", \"Ultra-Clean Fluid\"\n",
    "]\n",
    "formations = [\"Carbonate\", \"Sandstone\", \"Shale\", \"Dolomite\", \"Mixed\"]\n",
    "fluid_types = [\"Brine\", \"Acid\", \"Mud\", \"Water-Based\", \"Oil-Based\"]\n",
    "completion_types = [\"Open Hole\", \"Cased Hole\", \"Perforated\", \"Liner\"]\n",
    "\n",
    "# Numerical ranges (for normal data)\n",
    "temperature_range = (50, 200)  # Celsius\n",
    "pressure_range = (1000, 15000)  # psi\n",
    "ph_range = (3.5, 9.0)\n",
    "salinity_range = (10_000, 250_000)  # ppm\n",
    "flow_rate_range = (10, 1500)  # bbl/day\n",
    "permeability_range = (0.01, 500)  # mD\n",
    "porosity_range = (5, 35)  # %"
   ]
  },
  {
   "cell_type": "markdown",
   "id": "d3bf7b13",
   "metadata": {},
   "source": [
    "## <span style=\"font-size: 28px;\">Generate Normal Data</span>"
   ]
  },
  {
   "cell_type": "code",
   "execution_count": 3,
   "id": "a6c51da9",
   "metadata": {},
   "outputs": [],
   "source": [
    "# Generate normal synthetic data\n",
    "np.random.seed(42)\n",
    "normal_data = {\n",
    "    \"Well_ID\": [f\"WELL_{i:07}\" for i in range(num_normal_samples)],\n",
    "    \"Formation\": np.random.choice(formations, num_normal_samples),\n",
    "    \"Fluid_Type\": np.random.choice(fluid_types, num_normal_samples),\n",
    "    \"Completion_Type\": np.random.choice(completion_types, num_normal_samples),\n",
    "    \"Temperature_C\": np.random.uniform(*temperature_range, num_normal_samples),\n",
    "    \"Pressure_psi\": np.random.uniform(*pressure_range, num_normal_samples),\n",
    "    \"pH\": np.random.uniform(*ph_range, num_normal_samples),\n",
    "    \"Salinity_ppm\": np.random.uniform(*salinity_range, num_normal_samples),\n",
    "    \"Flow_Rate_bbl_day\": np.random.uniform(*flow_rate_range, num_normal_samples),\n",
    "    \"Permeability_mD\": np.random.uniform(*permeability_range, num_normal_samples),\n",
    "    \"Porosity_pct\": np.random.uniform(*porosity_range, num_normal_samples),\n",
    "    \"Damage_Type\": np.random.choice(damage_types, num_normal_samples)\n",
    "}\n",
    "normal_df = pd.DataFrame(normal_data)\n"
   ]
  },
  {
   "cell_type": "markdown",
   "id": "eb20be90",
   "metadata": {},
   "source": [
    "## <span style=\"font-size: 28px;\">Define and Generate Abnormal Data</span>"
   ]
  },
  {
   "cell_type": "code",
   "execution_count": 4,
   "id": "1338767f",
   "metadata": {},
   "outputs": [],
   "source": [
    "# Define ranges and damage types for abnormal data\n",
    "abnormal_temperature_range = (220, 300)\n",
    "abnormal_pressure_range = (16000, 20000)\n",
    "abnormal_ph_range = (2.0, 3.0)\n",
    "abnormal_flow_rate_range = (2000, 3000)\n",
    "abnormal_damage_types = [\"Corrosion Cracking\", \"Fluid Incompatibility\", \"Emulsion\"] # Focus on specific abnormal types\n",
    "\n",
    "# Generate abnormal synthetic data\n",
    "np.random.seed(123)  # Use a different seed for abnormal data\n",
    "abnormal_data = {\n",
    "    \"Well_ID\": [f\"ABNORMAL_{i:06}\" for i in range(num_abnormal_samples)],\n",
    "    \"Formation\": np.random.choice(formations, num_abnormal_samples),\n",
    "    \"Fluid_Type\": np.random.choice(fluid_types, num_abnormal_samples),\n",
    "    \"Completion_Type\": np.random.choice(completion_types, num_abnormal_samples),\n",
    "    \"Temperature_C\": np.random.uniform(*abnormal_temperature_range, num_abnormal_samples),\n",
    "    \"Pressure_psi\": np.random.uniform(*abnormal_pressure_range, num_abnormal_samples),\n",
    "    \"pH\": np.random.uniform(*abnormal_ph_range, num_abnormal_samples),\n",
    "    \"Salinity_ppm\": np.random.uniform(*salinity_range, num_abnormal_samples), # Keep salinity in the normal range for some anomalies\n",
    "    \"Flow_Rate_bbl_day\": np.random.uniform(*abnormal_flow_rate_range, num_abnormal_samples),\n",
    "    \"Permeability_mD\": np.random.uniform(*permeability_range, num_abnormal_samples), # Keep permeability in the normal range for some anomalies\n",
    "    \"Porosity_pct\": np.random.uniform(*porosity_range, num_abnormal_samples), # Keep porosity in the normal range for some anomalies\n",
    "    \"Damage_Type\": np.random.choice(abnormal_damage_types, num_abnormal_samples, p=[0.6, 0.3, 0.1]) # Higher probability for specific abnormal types\n",
    "}\n",
    "abnormal_df = pd.DataFrame(abnormal_data)"
   ]
  },
  {
   "cell_type": "markdown",
   "id": "f86c800f",
   "metadata": {},
   "source": [
    "## <span style=\"font-size: 28px;\">Combine Datasets</span>"
   ]
  },
  {
   "cell_type": "code",
   "execution_count": 5,
   "id": "5464b874",
   "metadata": {},
   "outputs": [],
   "source": [
    "# Combine normal and abnormal data\n",
    "combined_df = pd.concat([normal_df, abnormal_df], ignore_index=True)"
   ]
  },
  {
   "cell_type": "markdown",
   "id": "fd518b78",
   "metadata": {},
   "source": [
    "## <span style=\"font-size: 28px;\">Save Dataset</span>"
   ]
  },
  {
   "cell_type": "code",
   "execution_count": 6,
   "id": "49a08f4e",
   "metadata": {},
   "outputs": [
    {
     "name": "stdout",
     "output_type": "stream",
     "text": [
      "✅ Dataset with 10,500,000 records generated and saved as 'formation_damage_dataset_large.csv'\n"
     ]
    }
   ],
   "source": [
    "# Save the combined DataFrame\n",
    "combined_df.to_csv(\"formation_damage_dataset_large.csv\", index=False)\n",
    "\n",
    "print(f\"✅ Dataset with {num_total_samples:,} records generated and saved as 'formation_damage_dataset_large.csv'\")"
   ]
  }
 ],
 "metadata": {
  "kernelspec": {
   "display_name": "Python 3",
   "language": "python",
   "name": "python3"
  },
  "language_info": {
   "codemirror_mode": {
    "name": "ipython",
    "version": 3
   },
   "file_extension": ".py",
   "mimetype": "text/x-python",
   "name": "python",
   "nbconvert_exporter": "python",
   "pygments_lexer": "ipython3",
   "version": "3.11.5"
  }
 },
 "nbformat": 4,
 "nbformat_minor": 5
}

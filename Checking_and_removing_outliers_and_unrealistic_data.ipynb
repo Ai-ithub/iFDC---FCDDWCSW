{
  "nbformat": 4,
  "nbformat_minor": 0,
  "metadata": {
    "colab": {
      "provenance": []
    },
    "kernelspec": {
      "name": "python3",
      "display_name": "Python 3"
    },
    "language_info": {
      "name": "python"
    }
  },
  "cells": [
    {
      "cell_type": "code",
      "source": [
        "from google.colab import drive\n",
        "drive.mount('/content/drive')"
      ],
      "metadata": {
        "colab": {
          "base_uri": "https://localhost:8080/"
        },
        "id": "w7C7zi6GsRQD",
        "outputId": "422573a5-f76d-4828-a061-e093fe6def07"
      },
      "execution_count": 1,
      "outputs": [
        {
          "output_type": "stream",
          "name": "stdout",
          "text": [
            "Drive already mounted at /content/drive; to attempt to forcibly remount, call drive.mount(\"/content/drive\", force_remount=True).\n"
          ]
        }
      ]
    },
    {
      "cell_type": "code",
      "source": [
        "import pandas as pd\n",
        "import numpy as np\n",
        "from scipy import stats\n",
        "import glob\n",
        "import os\n",
        "\n",
        "# مسیر پوشه شامل فایل‌های Parquet\n",
        "folder_path = '/content/drive/MyDrive/24may_amin_dataset'  # پوشه شامل فایل‌ها\n",
        "parquet_files = glob.glob(os.path.join(folder_path, '*.parquet'))\n",
        "\n",
        "# اصلاح نام ستون‌ها\n",
        "columns_to_check = ['temperature', 'pressure', 'permeability', 'flow_rate']\n",
        "z_score_threshold = 3\n",
        "\n",
        "# ساخت پوشه خروجی برای داده‌های پرت و داده‌های پاک‌شده\n",
        "outlier_folder = '/content/outliers_files/'\n",
        "clean_folder = '/content/clean_files/'\n",
        "os.makedirs(outlier_folder, exist_ok=True)\n",
        "os.makedirs(clean_folder, exist_ok=True)\n",
        "\n",
        "# پردازش هر فایل جداگانه\n",
        "for file_path in parquet_files:\n",
        "    file_name = os.path.basename(file_path)\n",
        "    print(f\"🔎 پردازش فایل: {file_name}\")\n",
        "\n",
        "    df = pd.read_parquet(file_path)\n",
        "\n",
        "    # بررسی اگر ستون‌ها موجودند\n",
        "    if not all(col in df.columns for col in columns_to_check):\n",
        "        print(f\"⚠️ ستون‌های مورد نیاز در {file_name} پیدا نشدند. ادامه به فایل بعدی...\")\n",
        "        continue\n",
        "\n",
        "    # z-score\n",
        "    z_scores = np.abs(stats.zscore(df[columns_to_check], nan_policy='omit'))\n",
        "    outliers_zscore = (z_scores > z_score_threshold)\n",
        "\n",
        "    # IQR\n",
        "    outliers_iqr = pd.DataFrame(False, index=df.index, columns=columns_to_check)\n",
        "    for col in columns_to_check:\n",
        "        Q1 = df[col].quantile(0.25)\n",
        "        Q3 = df[col].quantile(0.75)\n",
        "        IQR = Q3 - Q1\n",
        "        lower_bound = Q1 - 1.5 * IQR\n",
        "        upper_bound = Q3 + 1.5 * IQR\n",
        "        outliers_iqr[col] = (df[col] < lower_bound) | (df[col] > upper_bound)\n",
        "\n",
        "    # ترکیب نتایج دو روش\n",
        "    outliers_combined = outliers_zscore | outliers_iqr\n",
        "\n",
        "    # داده‌های پرت و پاک‌شده\n",
        "    df_outliers = df[outliers_combined.any(axis=1)].copy()\n",
        "    df_clean = df[~outliers_combined.any(axis=1)].copy()\n",
        "\n",
        "    # ذخیره خروجی‌ها با نام اصلی فایل\n",
        "    outlier_file = os.path.join(outlier_folder, f\"outliers_{file_name}\")\n",
        "    clean_file = os.path.join(clean_folder, f\"clean_{file_name}\")\n",
        "\n",
        "    df_outliers.to_parquet(outlier_file, index=False)\n",
        "    df_clean.to_parquet(clean_file, index=False)\n",
        "\n",
        "    print(f\"✅ فایل‌های خروجی ذخیره شدند: {outlier_file}, {clean_file}\")\n",
        "\n",
        "print(\"🎉 تمام فایل‌ها پردازش شدند.\")\n"
      ],
      "metadata": {
        "colab": {
          "base_uri": "https://localhost:8080/"
        },
        "id": "lnu4qqU_3D3Q",
        "outputId": "2a0c9bcb-c9f2-42f8-b90a-9e2058d5dfa8"
      },
      "execution_count": 3,
      "outputs": [
        {
          "output_type": "stream",
          "name": "stdout",
          "text": [
            "🔎 پردازش فایل: Haynesville_50.parquet\n",
            "✅ فایل‌های خروجی ذخیره شدند: /content/outliers_files/outliers_Haynesville_50.parquet, /content/clean_files/clean_Haynesville_50.parquet\n",
            "🔎 پردازش فایل: Haynesville_31881.parquet\n",
            "✅ فایل‌های خروجی ذخیره شدند: /content/outliers_files/outliers_Haynesville_31881.parquet, /content/clean_files/clean_Haynesville_31881.parquet\n",
            "🔎 پردازش فایل: Haynesville_34068.parquet\n",
            "✅ فایل‌های خروجی ذخیره شدند: /content/outliers_files/outliers_Haynesville_34068.parquet, /content/clean_files/clean_Haynesville_34068.parquet\n",
            "🔎 پردازش فایل: Haynesville_81715.parquet\n",
            "✅ فایل‌های خروجی ذخیره شدند: /content/outliers_files/outliers_Haynesville_81715.parquet, /content/clean_files/clean_Haynesville_81715.parquet\n",
            "🔎 پردازش فایل: Haynesville_35068.parquet\n",
            "✅ فایل‌های خروجی ذخیره شدند: /content/outliers_files/outliers_Haynesville_35068.parquet, /content/clean_files/clean_Haynesville_35068.parquet\n",
            "🔎 پردازش فایل: Haynesville_362.parquet\n",
            "✅ فایل‌های خروجی ذخیره شدند: /content/outliers_files/outliers_Haynesville_362.parquet, /content/clean_files/clean_Haynesville_362.parquet\n",
            "🔎 پردازش فایل: Haynesville_30944.parquet\n",
            "✅ فایل‌های خروجی ذخیره شدند: /content/outliers_files/outliers_Haynesville_30944.parquet, /content/clean_files/clean_Haynesville_30944.parquet\n",
            "🔎 پردازش فایل: Haynesville_32094.parquet\n",
            "✅ فایل‌های خروجی ذخیره شدند: /content/outliers_files/outliers_Haynesville_32094.parquet, /content/clean_files/clean_Haynesville_32094.parquet\n",
            "🔎 پردازش فایل: Haynesville_31921.parquet\n",
            "✅ فایل‌های خروجی ذخیره شدند: /content/outliers_files/outliers_Haynesville_31921.parquet, /content/clean_files/clean_Haynesville_31921.parquet\n",
            "🔎 پردازش فایل: Haynesville_87931.parquet\n",
            "✅ فایل‌های خروجی ذخیره شدند: /content/outliers_files/outliers_Haynesville_87931.parquet, /content/clean_files/clean_Haynesville_87931.parquet\n",
            "🎉 تمام فایل‌ها پردازش شدند.\n"
          ]
        }
      ]
    },
    {
      "cell_type": "code",
      "source": [
        "import shutil\n",
        "\n",
        "# فشرده کردن پوشه داده‌های پرت\n",
        "shutil.make_archive('/content/outliers_files', 'zip', '/content/outliers_files')\n",
        "# فشرده کردن پوشه داده‌های clean\n",
        "shutil.make_archive('/content/clean_files', 'zip', '/content/clean_files')\n"
      ],
      "metadata": {
        "colab": {
          "base_uri": "https://localhost:8080/",
          "height": 35
        },
        "id": "oK8__cdT33Mx",
        "outputId": "813c6ad3-2d58-497d-b185-3a733ebd1f15"
      },
      "execution_count": 4,
      "outputs": [
        {
          "output_type": "execute_result",
          "data": {
            "text/plain": [
              "'/content/clean_files.zip'"
            ],
            "application/vnd.google.colaboratory.intrinsic+json": {
              "type": "string"
            }
          },
          "metadata": {},
          "execution_count": 4
        }
      ]
    },
    {
      "cell_type": "code",
      "source": [
        "import shutil\n",
        "\n",
        "# مسیر پوشه مقصد در گوگل درایو\n",
        "gdrive_path_outliers = '/content/drive/MyDrive/outliers_files'\n",
        "gdrive_path_clean = '/content/drive/MyDrive/clean_files'\n",
        "\n",
        "# کپی کردن پوشه‌ها به درایو\n",
        "shutil.copytree('/content/outliers_files', gdrive_path_outliers, dirs_exist_ok=True)\n",
        "shutil.copytree('/content/clean_files', gdrive_path_clean, dirs_exist_ok=True)\n",
        "\n",
        "print(\"✅ پوشه‌ها به Google Drive منتقل شدند.\")\n"
      ],
      "metadata": {
        "colab": {
          "base_uri": "https://localhost:8080/"
        },
        "id": "8VMtvFqD4yhK",
        "outputId": "459f2a19-e985-469b-8c01-a2565d3cfe1e"
      },
      "execution_count": 5,
      "outputs": [
        {
          "output_type": "stream",
          "name": "stdout",
          "text": [
            "✅ پوشه‌ها به Google Drive منتقل شدند.\n"
          ]
        }
      ]
    }
  ]
}